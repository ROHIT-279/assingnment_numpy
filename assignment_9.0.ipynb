{
 "cells": [
  {
   "cell_type": "code",
   "execution_count": 25,
   "id": "a7e0ede3-c709-4f49-a08f-4a5be7873efc",
   "metadata": {},
   "outputs": [],
   "source": [
    "import numpy as np\n",
    "list_ = [ 1 , 2 , 3 , 4 , 5 ]\n",
    "array_list = np.array(object = list_)"
   ]
  },
  {
   "cell_type": "code",
   "execution_count": 26,
   "id": "472afc5b-9eb4-488a-83cf-afd2b90b71c6",
   "metadata": {},
   "outputs": [
    {
     "name": "stdout",
     "output_type": "stream",
     "text": [
      "Data type of 'list_': <class 'list'>\n",
      "Data type of 'array_list': <class 'numpy.ndarray'>\n"
     ]
    }
   ],
   "source": [
    "#Q1\n",
    "import numpy as np\n",
    "\n",
    "list_ = [1, 2, 3, 4, 5]\n",
    "array_list = np.array(object=list_)\n",
    "\n",
    "print(\"Data type of 'list_':\", type(list_))\n",
    "print(\"Data type of 'array_list':\", type(array_list))\n"
   ]
  },
  {
   "cell_type": "code",
   "execution_count": 27,
   "id": "9ea4bbb5-9d67-41d0-967c-1c6b75bf730d",
   "metadata": {},
   "outputs": [
    {
     "name": "stdout",
     "output_type": "stream",
     "text": [
      "Element has list_ data type:  {<class 'int'>}\n",
      "Element has list_ data type:  {<class 'int'>}\n",
      "Element has list_ data type:  {<class 'int'>}\n",
      "Element has list_ data type:  {<class 'int'>}\n",
      "Element has list_ data type:  {<class 'int'>}\n",
      "Element has array_list data type : {<class 'numpy.int64'>}\n",
      "Element has array_list data type : {<class 'numpy.int64'>}\n",
      "Element has array_list data type : {<class 'numpy.int64'>}\n",
      "Element has array_list data type : {<class 'numpy.int64'>}\n",
      "Element has array_list data type : {<class 'numpy.int64'>}\n"
     ]
    }
   ],
   "source": [
    "#Q2.\n",
    "for element in list_:\n",
    "    print(f\"Element has list_ data type: \",{type(element)})\n",
    "    \n",
    "for element in array_list:\n",
    "    print(\"Element has array_list data type :\",{type(element)})"
   ]
  },
  {
   "cell_type": "code",
   "execution_count": 28,
   "id": "1c1000ae-75cc-4c36-9384-27f973eb16ad",
   "metadata": {},
   "outputs": [],
   "source": [
    "array_list = np.array(object = list_, dtype = int)"
   ]
  },
  {
   "cell_type": "code",
   "execution_count": 29,
   "id": "c9f82dc0-bfc3-4145-9569-fc9ba0ece6df",
   "metadata": {},
   "outputs": [
    {
     "name": "stdout",
     "output_type": "stream",
     "text": [
      "Elements has array_list data type: {<class 'numpy.int64'>}\n",
      "Elements has array_list data type: {<class 'numpy.int64'>}\n",
      "Elements has array_list data type: {<class 'numpy.int64'>}\n",
      "Elements has array_list data type: {<class 'numpy.int64'>}\n",
      "Elements has array_list data type: {<class 'numpy.int64'>}\n",
      "Element has list_ data type:  {<class 'int'>}\n",
      "Element has list_ data type:  {<class 'int'>}\n",
      "Element has list_ data type:  {<class 'int'>}\n",
      "Element has list_ data type:  {<class 'int'>}\n",
      "Element has list_ data type:  {<class 'int'>}\n"
     ]
    }
   ],
   "source": [
    "#Q3.\n",
    "for element in array_list:\n",
    "    print(\"Elements has array_list data type:\" , {type(element)})\n",
    "for element in list_:\n",
    "    print(f\"Element has list_ data type: \",{type(element)})\n",
    "        "
   ]
  },
  {
   "cell_type": "code",
   "execution_count": 30,
   "id": "e831c0bc-ecd5-453b-98ae-bf1fee8f8c28",
   "metadata": {},
   "outputs": [],
   "source": [
    "import numpy as np\n",
    "num_list = [ [ 1 , 2 , 3 ] , [ 4 , 5 , 6 ] ]\n",
    "num_array = np.array(object = num_list)"
   ]
  },
  {
   "cell_type": "code",
   "execution_count": 31,
   "id": "377d036d-b35e-400b-9807-8d1796e7442d",
   "metadata": {},
   "outputs": [
    {
     "data": {
      "text/plain": [
       "(2, 3)"
      ]
     },
     "execution_count": 31,
     "metadata": {},
     "output_type": "execute_result"
    }
   ],
   "source": [
    "#Q4. i.\n",
    "np.shape(num_array)"
   ]
  },
  {
   "cell_type": "code",
   "execution_count": 32,
   "id": "435bc845-1ab3-4e13-8c96-cbaa5f7de042",
   "metadata": {},
   "outputs": [
    {
     "data": {
      "text/plain": [
       "6"
      ]
     },
     "execution_count": 32,
     "metadata": {},
     "output_type": "execute_result"
    }
   ],
   "source": [
    "np.size(num_array)"
   ]
  },
  {
   "cell_type": "code",
   "execution_count": 35,
   "id": "e8d30a60-c96f-45d3-8569-37134e13d9b6",
   "metadata": {},
   "outputs": [],
   "source": [
    "#Q5. \n",
    "data= np.random.randint(0,1,(3,3))"
   ]
  },
  {
   "cell_type": "code",
   "execution_count": 36,
   "id": "e20e5fd5-24b3-4fc5-bcad-8449aa9c9df0",
   "metadata": {},
   "outputs": [
    {
     "data": {
      "text/plain": [
       "array([[0, 0, 0],\n",
       "       [0, 0, 0],\n",
       "       [0, 0, 0]])"
      ]
     },
     "execution_count": 36,
     "metadata": {},
     "output_type": "execute_result"
    }
   ],
   "source": [
    "data"
   ]
  },
  {
   "cell_type": "code",
   "execution_count": 38,
   "id": "f7bfd6ea-bdb5-441d-bff2-3afd44250c1e",
   "metadata": {},
   "outputs": [],
   "source": [
    "#Q6.\n",
    "data= np.diag([1,1,1,1,1])"
   ]
  },
  {
   "cell_type": "code",
   "execution_count": 39,
   "id": "bf87cd63-2265-465f-9cde-70aa1d2cdb1f",
   "metadata": {},
   "outputs": [
    {
     "data": {
      "text/plain": [
       "array([[1, 0, 0, 0, 0],\n",
       "       [0, 1, 0, 0, 0],\n",
       "       [0, 0, 1, 0, 0],\n",
       "       [0, 0, 0, 1, 0],\n",
       "       [0, 0, 0, 0, 1]])"
      ]
     },
     "execution_count": 39,
     "metadata": {},
     "output_type": "execute_result"
    }
   ],
   "source": [
    "data"
   ]
  },
  {
   "cell_type": "code",
   "execution_count": null,
   "id": "8785d0b9-c430-4494-a980-ebc6c2b48cd1",
   "metadata": {},
   "outputs": [],
   "source": []
  }
 ],
 "metadata": {
  "kernelspec": {
   "display_name": "Python 3 (ipykernel)",
   "language": "python",
   "name": "python3"
  },
  "language_info": {
   "codemirror_mode": {
    "name": "ipython",
    "version": 3
   },
   "file_extension": ".py",
   "mimetype": "text/x-python",
   "name": "python",
   "nbconvert_exporter": "python",
   "pygments_lexer": "ipython3",
   "version": "3.10.8"
  }
 },
 "nbformat": 4,
 "nbformat_minor": 5
}
